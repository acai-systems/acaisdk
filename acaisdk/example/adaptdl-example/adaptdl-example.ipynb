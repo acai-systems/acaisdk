{
 "cells": [
  {
   "cell_type": "code",
   "execution_count": 1,
   "id": "4416d36e-7945-4fd6-a66a-c36f1f12c3e9",
   "metadata": {},
   "outputs": [
    {
     "name": "stdout",
     "output_type": "stream",
     "text": [
      "/Users/nishantravishankar/Documents/Thesis/acaisdk/acaisdk/example/adaptdl-example\n",
      "/Users/nishantravishankar/Documents/Thesis/acaisdk/acaisdk/example/adaptdl-example\n"
     ]
    }
   ],
   "source": [
    "import os\n",
    "import sys\n",
    "print(os.getcwd())\n",
    "print(os.path.dirname(os.path.realpath('__file__')))\n",
    "sys.path.append(os.path.dirname(os.path.realpath('__file__')) + '/../../../')\n",
    "from acaisdk.file import File\n",
    "from acaisdk.project import Project\n",
    "from acaisdk.fileset import FileSet\n",
    "from acaisdk.job import Job\n",
    "from acaisdk.meta import * \n",
    "\n",
    "from acaisdk.utils import utils\n",
    "from acaisdk import credentials\n",
    "# from acaisdk import automl\n",
    "os.environ[\"CLUSTER\"] = 'PHOEBE'\n",
    "utils.DEBUG = True  # print debug messages\n",
    "workspace = os.path.dirname(os.path.realpath('__file__'))  # get current directory"
   ]
  },
  {
   "cell_type": "code",
   "execution_count": 2,
   "id": "eb697587-3bbf-4c16-a037-c8f62015dd49",
   "metadata": {},
   "outputs": [],
   "source": [
    "credentials.login('sWEuAkD8NkLWXHRxhOWcbbesj6Ny1jBx')"
   ]
  },
  {
   "cell_type": "code",
   "execution_count": 3,
   "id": "d1fb7f98-056e-486d-8543-a403c67247a8",
   "metadata": {},
   "outputs": [],
   "source": [
    "# Make your changes here\n",
    "project_id = \"nravish2_adaptdl_9\"\n",
    "root_token = 'EmDlCTBF1ppONSciYVd03M9xkmF6hFqW'\n",
    "project_admin = 'nravish2'\n",
    "user = 'nravish2'"
   ]
  },
  {
   "cell_type": "code",
   "execution_count": null,
   "id": "8b8961f1-2901-47d0-aad8-ed120a4e8c2d",
   "metadata": {},
   "outputs": [],
   "source": [
    "# @training\n",
    "# Create project and user\n",
    "r = Project.create_project(project_id, root_token, project_admin, csp='AZURE')\n",
    "\n",
    "print(r)"
   ]
  },
  {
   "cell_type": "code",
   "execution_count": null,
   "id": "98c2c99e-f67e-4803-8836-9001dc13e3e7",
   "metadata": {},
   "outputs": [],
   "source": [
    "download_dir = workspace + '/temp'\n",
    "print(download_dir)"
   ]
  },
  {
   "cell_type": "code",
   "execution_count": null,
   "id": "ae540987-2870-4db6-9726-39f85b2d3c9c",
   "metadata": {},
   "outputs": [],
   "source": [
    "credentials.login(r['project_admin_token'])"
   ]
  },
  {
   "cell_type": "code",
   "execution_count": null,
   "id": "d2218179-86e0-47fe-915c-5b76b9ae82c0",
   "metadata": {},
   "outputs": [],
   "source": [
    "code = os.path.join(workspace, 'helloworld.zip')\n",
    "File.upload({code: '/helloworld.zip'})"
   ]
  },
  {
   "cell_type": "code",
   "execution_count": null,
   "id": "811e43d7-10c8-4191-aa88-1540f57dd7ce",
   "metadata": {},
   "outputs": [],
   "source": [
    "File.list_dir('/')"
   ]
  },
  {
   "cell_type": "code",
   "execution_count": null,
   "id": "ff2d55dc-89c8-4fda-ab0f-ad9357af3ea3",
   "metadata": {},
   "outputs": [],
   "source": [
    "File.download({'/helloworld.zip' : download_dir})"
   ]
  },
  {
   "cell_type": "code",
   "execution_count": null,
   "id": "d2b8d19d-d459-4151-bf66-3de95572b2c6",
   "metadata": {},
   "outputs": [],
   "source": [
    "# Upload input files and create file set\n",
    "input_dir = os.path.join(workspace, 'data')\n",
    "File.convert_to_file_mapping([input_dir], 'data/') \\\n",
    "    .files_to_upload \\\n",
    "    .upload() \\\n",
    "    .as_new_file_set('data.works')"
   ]
  },
  {
   "cell_type": "code",
   "execution_count": null,
   "id": "c508b0de-1c7d-4c36-ae5c-65d983fa9b29",
   "metadata": {},
   "outputs": [],
   "source": [
    "# Run a job\n",
    "job_setting = {\n",
    "    \"v_cpu\": \"\",\n",
    "    \"memory\": \"\",\n",
    "    \"gpu\": \"\",\n",
    "    \"command\": \"\",\n",
    "    \"container_image\": \"\",\n",
    "    'input_file_set': 'data.works:1',\n",
    "    'output_path': '',\n",
    "    'code': '/helloworld.zip',\n",
    "    'description': 'Hello world adaptdl job',\n",
    "    'name': 'hello world adaptdl job',\n",
    "    'adaptdl_status': 'Enabled',\n",
    "    'model_name': 'helloworld'\n",
    "}\n",
    "\n",
    "j = Job().with_attributes(job_setting).run()"
   ]
  },
  {
   "cell_type": "code",
   "execution_count": null,
   "id": "a94fcbc9-43c9-40c2-a511-36ac204fa084",
   "metadata": {},
   "outputs": [],
   "source": []
  },
  {
   "cell_type": "code",
   "execution_count": null,
   "id": "cb68cb36-e4e2-4c82-91b7-ab09da10eea0",
   "metadata": {},
   "outputs": [],
   "source": []
  }
 ],
 "metadata": {
  "kernelspec": {
   "display_name": "Python 3 (ipykernel)",
   "language": "python",
   "name": "python3"
  },
  "language_info": {
   "codemirror_mode": {
    "name": "ipython",
    "version": 3
   },
   "file_extension": ".py",
   "mimetype": "text/x-python",
   "name": "python",
   "nbconvert_exporter": "python",
   "pygments_lexer": "ipython3",
   "version": "3.9.12"
  }
 },
 "nbformat": 4,
 "nbformat_minor": 5
}
