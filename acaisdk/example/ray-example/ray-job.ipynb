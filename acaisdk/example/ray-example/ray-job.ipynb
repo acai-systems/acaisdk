{
 "cells": [
  {
   "cell_type": "code",
   "execution_count": 1,
   "metadata": {},
   "outputs": [],
   "source": [
    "import os\n",
    "import sys\n",
    "sys.path.append(os.path.dirname(os.path.realpath('__file__')) + '/../../../')\n",
    "from acaisdk.file import File\n",
    "from acaisdk.project import Project\n",
    "from acaisdk.fileset import FileSet\n",
    "from acaisdk.job import Job, JobStatus\n",
    "from acaisdk.meta import *\n",
    "from acaisdk.utils import utils\n",
    "from acaisdk import credentials\n",
    "\n",
    "workspace = os.path.dirname(os.path.realpath('__file__'))\n",
    "utils.DEBUG = True  # print debug messages. Calls are successful as long as no exception is thrown."
   ]
  },
  {
   "cell_type": "code",
   "execution_count": 72,
   "metadata": {},
   "outputs": [],
   "source": [
    "# Make your changes here\n",
    "project_id = \"execution_test\"\n",
    "root_token = 'AWESOME_ACAI_DEVELOPERS'\n",
    "project_admin = 'execution_eng'\n",
    "user = 'execution_eng'"
   ]
  },
  {
   "cell_type": "code",
   "execution_count": 3,
   "metadata": {
    "tags": []
   },
   "outputs": [
    {
     "name": "stdout",
     "output_type": "stream",
     "text": [
      "Running request: 192.168.1.72 7445 credential create_project\n",
      "POST data {\"project_id\": \"data_lake_test\", \"admin_token\": \"AWESOME_ACAI_DEVELOPERS\", \"project_admin_name\": \"data_lake\"}\n",
      "Running request: 192.168.1.72 7445 credential create_user\n",
      "POST data {\"project_id\": \"data_lake_test\", \"admin_token\": \"7FiP3KQc8wBBGgRRzS6zMovzw3fLvwzY\", \"user_name\": \"data_lake\"}\n",
      "Logged in with token MgmScLEHtGyBE4hClDca4WiIEcWXbLL5\n",
      "MgmScLEHtGyBE4hClDca4WiIEcWXbLL5\n"
     ]
    }
   ],
   "source": [
    "# Create project and user\n",
    "r = Project.create_project(project_id, root_token, project_admin)\n",
    "r = Project.create_user(project_id, r['project_admin_token'], user)  # the new user is logged in automatically.\n",
    "# You can take note of the new token\n",
    "token = r['user_token']\n",
    "print(token)"
   ]
  },
  {
   "cell_type": "code",
   "execution_count": 4,
   "metadata": {},
   "outputs": [],
   "source": [
    "# Next time you can use the token to login:\n",
    "credentials.login('bWEPDTmZIFiSJbYw15FXevi0FZ3bp2Tk')"
   ]
  },
  {
   "cell_type": "code",
   "execution_count": 5,
   "metadata": {
    "tags": []
   },
   "outputs": [
    {
     "ename": "AssertionError",
     "evalue": "",
     "output_type": "error",
     "traceback": [
      "\u001b[0;31m---------------------------------------------------------------------------\u001b[0m",
      "\u001b[0;31mAssertionError\u001b[0m                            Traceback (most recent call last)",
      "\u001b[0;32m<ipython-input-5-ec0e164b597d>\u001b[0m in \u001b[0;36m<module>\u001b[0;34m\u001b[0m\n\u001b[1;32m      2\u001b[0m \u001b[0mtrain_code\u001b[0m \u001b[0;34m=\u001b[0m \u001b[0mos\u001b[0m\u001b[0;34m.\u001b[0m\u001b[0mpath\u001b[0m\u001b[0;34m.\u001b[0m\u001b[0mjoin\u001b[0m\u001b[0;34m(\u001b[0m\u001b[0mworkspace\u001b[0m\u001b[0;34m,\u001b[0m \u001b[0;34m'example.zip'\u001b[0m\u001b[0;34m)\u001b[0m\u001b[0;34m\u001b[0m\u001b[0;34m\u001b[0m\u001b[0m\n\u001b[1;32m      3\u001b[0m \u001b[0;31m# eval_code = os.path.join(workspace, 'demo/eval_script.zip')\u001b[0m\u001b[0;34m\u001b[0m\u001b[0;34m\u001b[0m\u001b[0;34m\u001b[0m\u001b[0m\n\u001b[0;32m----> 4\u001b[0;31m \u001b[0mFile\u001b[0m\u001b[0;34m.\u001b[0m\u001b[0mupload\u001b[0m\u001b[0;34m(\u001b[0m\u001b[0;34m{\u001b[0m\u001b[0mtrain_code\u001b[0m\u001b[0;34m:\u001b[0m \u001b[0;34m'train_scripts.zip'\u001b[0m\u001b[0;34m}\u001b[0m\u001b[0;34m)\u001b[0m\u001b[0;34m\u001b[0m\u001b[0;34m\u001b[0m\u001b[0m\n\u001b[0m",
      "\u001b[0;32m~/Desktop/Capstone-F20-latest/acaisdk/acaisdk/env/lib/python3.7/site-packages/acaisdk/file.py\u001b[0m in \u001b[0;36mupload\u001b[0;34m(local_to_remote, results)\u001b[0m\n\u001b[1;32m     78\u001b[0m \u001b[0;34m\u001b[0m\u001b[0m\n\u001b[1;32m     79\u001b[0m         \u001b[0;31m# Get file hashvalues\u001b[0m\u001b[0;34m\u001b[0m\u001b[0;34m\u001b[0m\u001b[0;34m\u001b[0m\u001b[0m\n\u001b[0;32m---> 80\u001b[0;31m         \u001b[0mfile_hashes\u001b[0m \u001b[0;34m=\u001b[0m \u001b[0;34m[\u001b[0m\u001b[0mutils\u001b[0m\u001b[0;34m.\u001b[0m\u001b[0mmd5_file\u001b[0m\u001b[0;34m(\u001b[0m\u001b[0ml\u001b[0m\u001b[0;34m)\u001b[0m \u001b[0;32mfor\u001b[0m \u001b[0ml\u001b[0m\u001b[0;34m,\u001b[0m \u001b[0m_\u001b[0m \u001b[0;32min\u001b[0m \u001b[0ml_r_mapping\u001b[0m\u001b[0;34m]\u001b[0m\u001b[0;34m\u001b[0m\u001b[0;34m\u001b[0m\u001b[0m\n\u001b[0m\u001b[1;32m     81\u001b[0m \u001b[0;34m\u001b[0m\u001b[0m\n\u001b[1;32m     82\u001b[0m         \u001b[0;31m# Get URLs\u001b[0m\u001b[0;34m\u001b[0m\u001b[0;34m\u001b[0m\u001b[0;34m\u001b[0m\u001b[0m\n",
      "\u001b[0;32m~/Desktop/Capstone-F20-latest/acaisdk/acaisdk/env/lib/python3.7/site-packages/acaisdk/file.py\u001b[0m in \u001b[0;36m<listcomp>\u001b[0;34m(.0)\u001b[0m\n\u001b[1;32m     78\u001b[0m \u001b[0;34m\u001b[0m\u001b[0m\n\u001b[1;32m     79\u001b[0m         \u001b[0;31m# Get file hashvalues\u001b[0m\u001b[0;34m\u001b[0m\u001b[0;34m\u001b[0m\u001b[0;34m\u001b[0m\u001b[0m\n\u001b[0;32m---> 80\u001b[0;31m         \u001b[0mfile_hashes\u001b[0m \u001b[0;34m=\u001b[0m \u001b[0;34m[\u001b[0m\u001b[0mutils\u001b[0m\u001b[0;34m.\u001b[0m\u001b[0mmd5_file\u001b[0m\u001b[0;34m(\u001b[0m\u001b[0ml\u001b[0m\u001b[0;34m)\u001b[0m \u001b[0;32mfor\u001b[0m \u001b[0ml\u001b[0m\u001b[0;34m,\u001b[0m \u001b[0m_\u001b[0m \u001b[0;32min\u001b[0m \u001b[0ml_r_mapping\u001b[0m\u001b[0;34m]\u001b[0m\u001b[0;34m\u001b[0m\u001b[0;34m\u001b[0m\u001b[0m\n\u001b[0m\u001b[1;32m     81\u001b[0m \u001b[0;34m\u001b[0m\u001b[0m\n\u001b[1;32m     82\u001b[0m         \u001b[0;31m# Get URLs\u001b[0m\u001b[0;34m\u001b[0m\u001b[0;34m\u001b[0m\u001b[0;34m\u001b[0m\u001b[0m\n",
      "\u001b[0;32m~/Desktop/Capstone-F20-latest/acaisdk/acaisdk/env/lib/python3.7/site-packages/acaisdk/utils/utils.py\u001b[0m in \u001b[0;36mmd5_file\u001b[0;34m(filename)\u001b[0m\n\u001b[1;32m     53\u001b[0m \u001b[0;34m\u001b[0m\u001b[0m\n\u001b[1;32m     54\u001b[0m \u001b[0;32mdef\u001b[0m \u001b[0mmd5_file\u001b[0m\u001b[0;34m(\u001b[0m\u001b[0mfilename\u001b[0m\u001b[0;34m:\u001b[0m \u001b[0mUnion\u001b[0m\u001b[0;34m[\u001b[0m\u001b[0mstr\u001b[0m\u001b[0;34m,\u001b[0m \u001b[0mPath\u001b[0m\u001b[0;34m]\u001b[0m\u001b[0;34m)\u001b[0m\u001b[0;34m:\u001b[0m\u001b[0;34m\u001b[0m\u001b[0;34m\u001b[0m\u001b[0m\n\u001b[0;32m---> 55\u001b[0;31m     \u001b[0;32mreturn\u001b[0m \u001b[0mstr\u001b[0m\u001b[0;34m(\u001b[0m\u001b[0mmd5_update_from_file\u001b[0m\u001b[0;34m(\u001b[0m\u001b[0mfilename\u001b[0m\u001b[0;34m,\u001b[0m \u001b[0mhashlib\u001b[0m\u001b[0;34m.\u001b[0m\u001b[0mmd5\u001b[0m\u001b[0;34m(\u001b[0m\u001b[0;34m)\u001b[0m\u001b[0;34m)\u001b[0m\u001b[0;34m.\u001b[0m\u001b[0mhexdigest\u001b[0m\u001b[0;34m(\u001b[0m\u001b[0;34m)\u001b[0m\u001b[0;34m)\u001b[0m\u001b[0;34m\u001b[0m\u001b[0;34m\u001b[0m\u001b[0m\n\u001b[0m\u001b[1;32m     56\u001b[0m \u001b[0;34m\u001b[0m\u001b[0m\n\u001b[1;32m     57\u001b[0m \u001b[0;34m\u001b[0m\u001b[0m\n",
      "\u001b[0;32m~/Desktop/Capstone-F20-latest/acaisdk/acaisdk/env/lib/python3.7/site-packages/acaisdk/utils/utils.py\u001b[0m in \u001b[0;36mmd5_update_from_file\u001b[0;34m(filename, hash)\u001b[0m\n\u001b[1;32m     32\u001b[0m \u001b[0;34m\u001b[0m\u001b[0m\n\u001b[1;32m     33\u001b[0m \u001b[0;32mdef\u001b[0m \u001b[0mmd5_update_from_file\u001b[0m\u001b[0;34m(\u001b[0m\u001b[0mfilename\u001b[0m\u001b[0;34m:\u001b[0m \u001b[0mUnion\u001b[0m\u001b[0;34m[\u001b[0m\u001b[0mstr\u001b[0m\u001b[0;34m,\u001b[0m \u001b[0mPath\u001b[0m\u001b[0;34m]\u001b[0m\u001b[0;34m,\u001b[0m \u001b[0mhash\u001b[0m\u001b[0;34m:\u001b[0m \u001b[0mHash\u001b[0m\u001b[0;34m)\u001b[0m\u001b[0;34m:\u001b[0m\u001b[0;34m\u001b[0m\u001b[0;34m\u001b[0m\u001b[0m\n\u001b[0;32m---> 34\u001b[0;31m     \u001b[0;32massert\u001b[0m \u001b[0mPath\u001b[0m\u001b[0;34m(\u001b[0m\u001b[0mfilename\u001b[0m\u001b[0;34m)\u001b[0m\u001b[0;34m.\u001b[0m\u001b[0mis_file\u001b[0m\u001b[0;34m(\u001b[0m\u001b[0;34m)\u001b[0m\u001b[0;34m\u001b[0m\u001b[0;34m\u001b[0m\u001b[0m\n\u001b[0m\u001b[1;32m     35\u001b[0m     \u001b[0mhash\u001b[0m\u001b[0;34m.\u001b[0m\u001b[0mupdate\u001b[0m\u001b[0;34m(\u001b[0m\u001b[0mfilename\u001b[0m\u001b[0;34m.\u001b[0m\u001b[0mencode\u001b[0m\u001b[0;34m(\u001b[0m\u001b[0;34m)\u001b[0m\u001b[0;34m)\u001b[0m\u001b[0;34m\u001b[0m\u001b[0;34m\u001b[0m\u001b[0m\n\u001b[1;32m     36\u001b[0m     \u001b[0;32mwith\u001b[0m \u001b[0mopen\u001b[0m\u001b[0;34m(\u001b[0m\u001b[0mstr\u001b[0m\u001b[0;34m(\u001b[0m\u001b[0mfilename\u001b[0m\u001b[0;34m)\u001b[0m\u001b[0;34m,\u001b[0m \u001b[0;34m\"rb\"\u001b[0m\u001b[0;34m)\u001b[0m \u001b[0;32mas\u001b[0m \u001b[0mf\u001b[0m\u001b[0;34m:\u001b[0m\u001b[0;34m\u001b[0m\u001b[0;34m\u001b[0m\u001b[0m\n",
      "\u001b[0;31mAssertionError\u001b[0m: "
     ]
    }
   ],
   "source": [
    "# Upload code\n",
    "train_code = os.path.join(workspace, 'example.zip')\n",
    "# eval_code = os.path.join(workspace, 'demo/eval_script.zip')\n",
    "File.upload({train_code: 'train_scripts.zip'})"
   ]
  },
  {
   "cell_type": "code",
   "execution_count": 8,
   "metadata": {
    "tags": []
   },
   "outputs": [
    {
     "name": "stdout",
     "output_type": "stream",
     "text": [
      "Running request: 192.168.1.72 7445 storage start_file_upload_session\n",
      "POST data {\"paths\": [\"ray_dataset/train.txt\"], \"token\": \"MgmScLEHtGyBE4hClDca4WiIEcWXbLL5\"}\n",
      "[('/Users/mxin/Desktop/cmu/2020fall/11632-capstone/acai_repos_new/acaisdk/acaisdk/example/ray-example/dataset/train.txt', 'ray_dataset/train.txt')]\n",
      "r =  <Response [200]>\n",
      "Uploaded /Users/mxin/Desktop/cmu/2020fall/11632-capstone/acai_repos_new/acaisdk/acaisdk/example/ray-example/dataset/train.txt to ray_dataset/train.txt\n",
      "Running request: 192.168.1.72 7445 storage poll_file_upload_session\n",
      "GET query {\"session_id\": 65, \"token\": \"MgmScLEHtGyBE4hClDca4WiIEcWXbLL5\"}\n",
      "Running request: 192.168.1.72 7445 storage poll_file_upload_session\n",
      "GET query {\"session_id\": 65, \"token\": \"MgmScLEHtGyBE4hClDca4WiIEcWXbLL5\"}\n",
      "Running request: 192.168.1.72 7445 storage poll_file_upload_session\n",
      "GET query {\"session_id\": 65, \"token\": \"MgmScLEHtGyBE4hClDca4WiIEcWXbLL5\"}\n",
      "Running request: 192.168.1.72 7445 storage finish_file_upload_session\n",
      "POST data {\"session_id\": 65, \"token\": \"MgmScLEHtGyBE4hClDca4WiIEcWXbLL5\"}\n",
      "Running request: 192.168.1.72 7445 storage create_file_set\n",
      "POST data {\"name\": \"ray_test_fs\", \"files\": [\"ray_dataset/train.txt:1\"], \"token\": \"MgmScLEHtGyBE4hClDca4WiIEcWXbLL5\"}\n"
     ]
    },
    {
     "data": {
      "text/plain": [
       "{'id': 'ray_test_fs:1', 'files': ['ray_dataset/train.txt:1']}"
      ]
     },
     "execution_count": 8,
     "metadata": {},
     "output_type": "execute_result"
    }
   ],
   "source": [
    "# Upload dummy input files and create a new file set on the fly\n",
    "input_dir = os.path.join(workspace, 'dataset/')\n",
    "File.convert_to_file_mapping([input_dir], 'ray_dataset/')\\\n",
    "    .files_to_upload\\\n",
    "    .upload()\\\n",
    "    .as_new_file_set('ray_test_fs')"
   ]
  },
  {
   "cell_type": "code",
   "execution_count": 3,
   "metadata": {
    "tags": []
   },
   "outputs": [
    {
     "name": "stdout",
     "output_type": "stream",
     "text": [
      "Running request: credential.acai.mxcao.me 80 storage list_directory\n",
      "GET query {\"directory_path\": \"/\", \"token\": \"MgmScLEHtGyBE4hClDca4WiIEcWXbLL5\"}\n"
     ]
    },
    {
     "data": {
      "text/plain": [
       "[{'path': 'ray_dataset', 'version': -1, 'dir': True, 'is_dir': True}]"
      ]
     },
     "execution_count": 3,
     "metadata": {},
     "output_type": "execute_result"
    }
   ],
   "source": [
    "# You can inspect the uploaded files\n",
    "File.list_dir('/')"
   ]
  },
  {
   "cell_type": "code",
   "execution_count": 89,
   "metadata": {
    "tags": []
   },
   "outputs": [
    {
     "name": "stdout",
     "output_type": "stream",
     "text": [
      "Running request: 192.168.1.72 7445 storage resolve_file_set\n",
      "GET query {\"vague_name\": \"ray_test_fs\", \"token\": \"qjbYDwKhg8l4OzJymKGy2ruHOodiFgsg\"}\n",
      "Running request: 192.168.1.72 7445 job_registry new_job\n",
      "POST data {\"name\": \"ray_test_job\", \"input_file_set\": \"ray_test_fs:1\", \"output_path\": \"./ray_output/\", \"code\": \"train_scripts.zip\", \"command\": \"ray start --node-ip-address=$MY_POD_IP --num-cpus=0 --address=$RAY_HEAD_SERVICE_HOST:$RAY_HEAD_SERVICE_PORT_REDIS_PRIMARY --object-manager-port=12345 --node-manager-port=12346 && mkdir ray_output && python example.py | tee ./ray_output/output.txt\", \"container_image\": \"rayproject/autoscaler\", \"description\": \"sample ray job with 4 nodes (1 head + 3 workers)\", \"v_cpu\": \"100m\", \"gpu\": \"0\", \"memory\": \"512Mi\", \"job_status\": null, \"nnode\": 3, \"framework\": \"ray\", \"token\": \"qjbYDwKhg8l4OzJymKGy2ruHOodiFgsg\"}\n",
      "{'status': {'message': 'launching'}, 'job': {'name': 'ray_test_job', 'code': 'train_scripts.zip', 'command': 'ray start --node-ip-address=$MY_POD_IP --num-cpus=0 --address=$RAY_HEAD_SERVICE_HOST:$RAY_HEAD_SERVICE_PORT_REDIS_PRIMARY --object-manager-port=12345 --node-manager-port=12346 && mkdir ray_output && python example.py | tee ./ray_output/output.txt', 'description': 'sample ray job with 4 nodes (1 head + 3 workers)', 'gpu': '0', 'memory': '512Mi', 'hidden': False, 'type': 'DEFAULT', 'nnode': 3, 'framework': 'ray', 'vcpu': '100m', 'id': 51, 'input_file_set': 'ray_test_fs:1', 'output_path': './ray_output/', 'user_id': 38, 'project_id': 'execution_test', 'container_image': 'rayproject/autoscaler', 'v_cpu': '100m', 'output_file_set': 'job_51_output', 'submitted_time': '2020-10-12T17:35:29.986+0000'}}\n"
     ]
    }
   ],
   "source": [
    "# Run a training job, it takes ~3 mins to finish\n",
    "job_setting = {\n",
    "    \"v_cpu\": \"100m\",\n",
    "    \"memory\": \"512Mi\",\n",
    "    \"gpu\": \"0\",\n",
    "    \"nnode\": 3, # the number of workers in addition to the head node\n",
    "    \"framework\": \"ray\",\n",
    "    \"command\": \"ray start --node-ip-address=$MY_POD_IP --num-cpus=0 --address=$RAY_HEAD_SERVICE_HOST:$RAY_HEAD_SERVICE_PORT_REDIS_PRIMARY --object-manager-port=12345 --node-manager-port=12346 && mkdir ray_output && python example.py | tee ./ray_output/output.txt\",\n",
    "    \"container_image\": \"rayproject/autoscaler\",\n",
    "    'input_file_set': 'ray_test_fs', # not used since this example does not need an input dataset\n",
    "    'output_path': './ray_output/', # necessary to have a parent folder\n",
    "    'code': 'train_scripts.zip',\n",
    "    'description': 'sample ray job with 4 nodes (1 head + 3 workers)',\n",
    "    'name': 'ray_test_job'\n",
    "}\n",
    "\n",
    "train_job = Job().with_attributes(job_setting).run()"
   ]
  },
  {
   "cell_type": "code",
   "execution_count": 90,
   "metadata": {
    "tags": []
   },
   "outputs": [
    {
     "name": "stdout",
     "output_type": "stream",
     "text": [
      "Running request: 192.168.1.72 7445 job_monitor job_status\n",
      "POST data {\"ids\": [51], \"token\": \"qjbYDwKhg8l4OzJymKGy2ruHOodiFgsg\"}\n"
     ]
    },
    {
     "data": {
      "text/plain": [
       "<JobStatus.FINISHED: 6>"
      ]
     },
     "execution_count": 90,
     "metadata": {},
     "output_type": "execute_result"
    }
   ],
   "source": [
    "train_job.status()"
   ]
  },
  {
   "cell_type": "code",
   "execution_count": 91,
   "metadata": {
    "tags": []
   },
   "outputs": [
    {
     "name": "stdout",
     "output_type": "stream",
     "text": [
      "Running request: 192.168.1.72 7445 storage list_directory\n",
      "GET query {\"directory_path\": \"/ray_output\", \"token\": \"qjbYDwKhg8l4OzJymKGy2ruHOodiFgsg\"}\n"
     ]
    },
    {
     "data": {
      "text/plain": [
       "[{'path': 'output.txt', 'version': 3, 'dir': False, 'is_dir': False}]"
      ]
     },
     "execution_count": 91,
     "metadata": {},
     "output_type": "execute_result"
    }
   ],
   "source": [
    "# Now inspect the output\n",
    "File.list_dir('/ray_output')"
   ]
  },
  {
   "cell_type": "code",
   "execution_count": 92,
   "metadata": {
    "tags": []
   },
   "outputs": [
    {
     "name": "stdout",
     "output_type": "stream",
     "text": [
      "Running request: 192.168.1.72 7445 storage download_file\n",
      "GET query {\"path\": \"/ray_output/output.txt\", \"token\": \"qjbYDwKhg8l4OzJymKGy2ruHOodiFgsg\"}\n",
      "<Response [200]>\n"
     ]
    }
   ],
   "source": [
    "File.download({'/ray_output/output.txt': './output.txt'})"
   ]
  },
  {
   "cell_type": "code",
   "execution_count": null,
   "metadata": {},
   "outputs": [],
   "source": []
  }
 ],
 "metadata": {
  "kernelspec": {
   "display_name": "Python 3",
   "language": "python",
   "name": "python3"
  },
  "language_info": {
   "codemirror_mode": {
    "name": "ipython",
    "version": 3
   },
   "file_extension": ".py",
   "mimetype": "text/x-python",
   "name": "python",
   "nbconvert_exporter": "python",
   "pygments_lexer": "ipython3",
   "version": "3.7.3"
  }
 },
 "nbformat": 4,
 "nbformat_minor": 2
}
