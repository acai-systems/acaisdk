{
 "cells": [
  {
   "cell_type": "code",
   "execution_count": null,
   "id": "8b53792d",
   "metadata": {},
   "outputs": [],
   "source": [
    "import os\n",
    "import sys\n",
    "sys.path.append(os.path.dirname(os.path.realpath('__file__')) + '/../../../')\n",
    "from acaisdk.file import File\n",
    "from acaisdk.project import Project\n",
    "from acaisdk.fileset import FileSet\n",
    "from acaisdk.job import Job\n",
    "from acaisdk.meta import *\n",
    "from acaisdk.utils import utils\n",
    "from acaisdk import credentials\n",
    "# from acaisdk import automl\n",
    "\n",
    "utils.DEBUG = True  # print debug messages\n",
    "workspace = os.path.dirname(os.path.realpath('__file__'))  # get current directory"
   ]
  },
  {
   "cell_type": "code",
   "execution_count": null,
   "id": "fa5305b0",
   "metadata": {},
   "outputs": [],
   "source": [
    "# Setting up project\n",
    "# \n",
    "# Either:\n",
    "# 1) Provide your existing token for some project\n",
    "# 2) Fill in information for new project creation (project_name, project_admin, project_user, optional [csp, budget])\n",
    "# Do not change root_token!\n",
    "token = ''\n",
    "force_new_project = False\n",
    "    \n",
    "project_name = ''\n",
    "project_admin = ''\n",
    "project_user = ''\n",
    "csp = 'AZURE' # AWS/AZURE/GCP/PRIVATE\n",
    "budget = 10 # Default, I have no idea what other options there are\n",
    "\n",
    "try:\n",
    "    p\n",
    "except NameError:\n",
    "    pass\n",
    "else:\n",
    "    if not force_new_project:\n",
    "        if token == '':\n",
    "            print(\"User token {} already exists, saving to variable 'token'. If you want to enforce new project, set 'force_new_project=True'.\".format(p['user_token']))\n",
    "            token = p['user_token']\n",
    "    else:\n",
    "        print(\"User token {} already exists but forcing new project.\".format(p['user_token']))\n",
    "\n",
    "\n",
    "if token != '':\n",
    "    print(\"Logging in with existing credentials.\")\n",
    "    credentials.login(token)\n",
    "else:\n",
    "    print(\"Creating new project.\")\n",
    "    if project_name == '' or project_admin == '' or project_user == '':\n",
    "        raise ValueError(\"Some of the 'project_name', 'project_admin', 'project_user' not provided!\")\n",
    "    \n",
    "    root_token = 'EmDlCTBF1ppONSciYVd03M9xkmF6hFqW' \n",
    "    p = Project.create_project(project_name, root_token, project_admin, csp=csp, budget=budget)\n",
    "    p = Project.create_user(project_name, p['project_admin_token'], project_user)\n",
    "    token = p['user_token']\n",
    "    print(\"New user token {}, saved to variable 'token'\".format(token))"
   ]
  },
  {
   "cell_type": "code",
   "execution_count": null,
   "id": "4ab23061",
   "metadata": {},
   "outputs": [],
   "source": [
    "# Set env variable needed for Phoebe\n",
    "USE_PHOEBE = False\n",
    "if USE_PHOEBE:\n",
    "    os.environ[\"CLUSTER\"] = 'PHOEBE'"
   ]
  },
  {
   "cell_type": "code",
   "execution_count": null,
   "id": "7e4b8e10",
   "metadata": {},
   "outputs": [],
   "source": [
    "# The structure of input data was done in a slightly weird way\n",
    "# After downloading kaggle dataset I untarred the file (tar -xvf cifar10.zip -C inputs)\n",
    "# and there was another zip inside. I untarred that as well (tar -xvf inputs/cifar10.tgz -C inputs)\n",
    "# which yielded following structure\n",
    "#\n",
    "# \n",
    "# > tree inputs -d 1\n",
    "# inputs\n",
    "# └── cifar10\n",
    "#     ├── test\n",
    "#     │   ├── airplane\n",
    "#     │   ├── automobile\n",
    "#     │   ├── bird\n",
    "#     │   ├── cat\n",
    "#     │   ├── deer\n",
    "#     │   ├── dog\n",
    "#     │   ├── frog\n",
    "#     │   ├── horse\n",
    "#     │   ├── ship\n",
    "#     │   └── truck\n",
    "#     └── train\n",
    "#         ├── airplane\n",
    "#         ├── automobile\n",
    "#         ├── bird\n",
    "#         ├── cat\n",
    "#         ├── deer\n",
    "#         ├── dog\n",
    "#         ├── frog\n",
    "#         ├── horse\n",
    "#         ├── ship\n",
    "#         └── truck\n",
    "# └── cifar10.tgz\n",
    "#\n",
    "# The reason is that inputs are too large and zipping them is essential for any handling\n",
    "# The fileset uploaded to S3 should be the inputs/cifar10.tgz\n",
    "# The job's command will have to untar that fileset in the input path in container\n",
    "# The training code adds test and train path inside the code so it's enough to provide the job with input path\n",
    "# which will extract the files to the correct structure"
   ]
  },
  {
   "cell_type": "code",
   "execution_count": null,
   "id": "1e22119a",
   "metadata": {},
   "outputs": [],
   "source": [
    "outputs = os.path.join(workspace, 'outputs/')\n",
    "if not os.path.isdir(outputs):\n",
    "    os.mkdir(outputs)\n",
    "inputs = os.path.join(workspace, 'inputs/')\n",
    "if not os.path.isdir(inputs):\n",
    "    os.mkdir(inputs)\n",
    "inf = [f for f in os.listdir(inputs)]\n",
    "print(inf)\n",
    "if \"cifar10\" not in inf:\n",
    "    raise FileNotFoundError(\"Data is not extracted in the inputs directory! Extract the data cifar10.zip to inputs directory (e.g. tar -xvf cifar10.zip -C inputs) and then extract the zip once again!\")"
   ]
  },
  {
   "cell_type": "code",
   "execution_count": null,
   "id": "9c859d83",
   "metadata": {},
   "outputs": [],
   "source": [
    "# In case dataset is not downloaded at all = cifar10-ResNet/cifar10.zip not present\n",
    "# do the following:\n",
    "#\n",
    "# Install kaggle (pip3 or pip)\n",
    "# pip3 install kaggle\n",
    "#\n",
    "# Download dataset to the workdir of Sentiment-IMDB\n",
    "# kaggle datasets download dineshsaini/cifar10\n",
    "#\n",
    "# Untar downloaded dataset to inputs dir\n",
    "# tar -xvf cifar10.zip -C inputs\n",
    "# tar -xvf inputs/cifar10.tgz -C inputs <- important"
   ]
  },
  {
   "cell_type": "code",
   "execution_count": null,
   "id": "dde27894",
   "metadata": {},
   "outputs": [],
   "source": [
    "File.convert_to_file_mapping([inputs + \"cifar10.tgz\"], '/cifar10-inputs/') \\\n",
    "    .files_to_upload \\\n",
    "    .upload() \\\n",
    "    .as_new_file_set('cifar10t.inputs')"
   ]
  },
  {
   "cell_type": "code",
   "execution_count": null,
   "id": "5a4f3314",
   "metadata": {},
   "outputs": [],
   "source": [
    "File.list_dir('/cifar10-inputs/')"
   ]
  },
  {
   "cell_type": "code",
   "execution_count": null,
   "id": "1b5877f2",
   "metadata": {},
   "outputs": [],
   "source": [
    "# Upload code\n",
    "code = os.path.join(workspace, 'cifar10-code.zip')\n",
    "File.upload({code: 'cifar10-code.zip'})"
   ]
  },
  {
   "cell_type": "code",
   "execution_count": null,
   "id": "fb4c4b19",
   "metadata": {},
   "outputs": [],
   "source": [
    "File.list_dir('/')"
   ]
  },
  {
   "cell_type": "code",
   "execution_count": null,
   "id": "3fef63a6",
   "metadata": {},
   "outputs": [],
   "source": [
    "# All 3GB shm:\n",
    "# 1. CPU: 5 MEM: 20Gi GPU:0 ===> Time to Finish:  805m\n",
    "# 2. CPU: 20 MEM: 20Gi GPU:0 ===> Time to Finish: 140.8m\n",
    "# 3. CPU: 5 MEM: 20Gi GPU:1 ===> Time to Finish: 2.9m\n",
    "# 4. CPU: 2 MEM: 5Gi GPU:1 ===> Time to Finish: 12.1m\n",
    "# 5. Locally on macbook pro m1:\n",
    "# CPU times: user 3h 9min 50s, sys: 24min 51s, total: 3h 34min 41s\n",
    "# Wall time: 1h 14min 11s\n",
    "\n",
    "\n",
    "job_setting = {\n",
    "    \"v_cpu\": \"20\",\n",
    "    \"memory\": \"20Gi\",\n",
    "    \"gpu\": \"1\",\n",
    "    \"command\": \"mkdir -p ./cifar10-output/ && (mkdir -p ./cifar10-inputs/) && (tar -xvf ./cifar10-inputss/cifar10.tgz -C ./cifar10-inputs) && (pip install -r requirements.txt) && (python3 cifar10.py ./cifar10-inputs/ ./cifar10-output/)\",\n",
    "    \"container_image\": \"python:3.10.9\",\n",
    "    'input_file_set': 'cifar10t.inputs',\n",
    "    'output_path': './cifar10-output/',\n",
    "    'code': 'cifar10-code.zip:2',\n",
    "    'description': 'CIFAR10 with ResNet9 Arch',\n",
    "    'name': 'cifar10-resnet9',\n",
    "    'shm': '3',\n",
    "}\n",
    "\n",
    "j = Job().with_attributes(job_setting).run()"
   ]
  },
  {
   "cell_type": "code",
   "execution_count": null,
   "id": "1e2cc63e",
   "metadata": {},
   "outputs": [],
   "source": [
    "j.check_job_status(3315)"
   ]
  },
  {
   "cell_type": "code",
   "execution_count": null,
   "id": "c949a8bc",
   "metadata": {},
   "outputs": [],
   "source": [
    "File.list_dir('/cifar10-output')"
   ]
  },
  {
   "cell_type": "code",
   "execution_count": null,
   "id": "c186220d",
   "metadata": {},
   "outputs": [],
   "source": [
    "File.download({'/cifar10-output/epochs.txt': outputs})"
   ]
  },
  {
   "cell_type": "code",
   "execution_count": null,
   "id": "ece2081e",
   "metadata": {},
   "outputs": [],
   "source": []
  }
 ],
 "metadata": {
  "kernelspec": {
   "display_name": "Python 3 (ipykernel)",
   "language": "python",
   "name": "python3"
  },
  "language_info": {
   "codemirror_mode": {
    "name": "ipython",
    "version": 3
   },
   "file_extension": ".py",
   "mimetype": "text/x-python",
   "name": "python",
   "nbconvert_exporter": "python",
   "pygments_lexer": "ipython3",
   "version": "3.10.9"
  }
 },
 "nbformat": 4,
 "nbformat_minor": 5
}
