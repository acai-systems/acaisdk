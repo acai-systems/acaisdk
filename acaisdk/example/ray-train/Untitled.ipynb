{
 "cells": [
  {
   "cell_type": "code",
   "execution_count": 1,
   "id": "a0bcd4db-6221-4e33-be89-a96d08df52a3",
   "metadata": {},
   "outputs": [],
   "source": [
    "import numpy as np"
   ]
  },
  {
   "cell_type": "code",
   "execution_count": 25,
   "id": "4ff9f507-db74-4041-8340-30ec1529f492",
   "metadata": {},
   "outputs": [
    {
     "name": "stdout",
     "output_type": "stream",
     "text": [
      "(2, 1)\n",
      "4\n",
      "[[0.]\n",
      " [0.]\n",
      " [1.]\n",
      " [1.]]\n",
      "[[0.]\n",
      " [0.]\n",
      " [1.]\n",
      " [1.]]\n",
      "[[0.]\n",
      " [0.]\n",
      " [3.]\n",
      " [1.]]\n",
      "[[1]\n",
      " [2]\n",
      " [3]]\n",
      "F: [[1.]\n",
      " [2.]\n",
      " [3.]]\n",
      "[[1.]\n",
      " [2.]\n",
      " [3.]\n",
      " [1.]\n",
      " [2.]\n",
      " [3.]]\n"
     ]
    }
   ],
   "source": [
    "b = np.ones((2,1))\n",
    "a = np.zeros((2,1))\n",
    "print(a.shape)\n",
    "c = np.concatenate((a, b))\n",
    "print(c.shape[0])\n",
    "print(c)\n",
    "d = np.copy(c)\n",
    "d[2][0] = 3\n",
    "print(c)\n",
    "print(d)\n",
    "l = [1,2,3]\n",
    "e = np.asarray(l).reshape(len(l), -1)\n",
    "print(e)\n",
    "\n",
    "f = np.array(e, dtype=np.float32)\n",
    "print(\"F:\", f)\n",
    "\n",
    "\n",
    "inpu = f\n",
    "inputs = inpu\n",
    "inputs = np.concatenate((inputs, inpu))\n",
    "print(inputs)"
   ]
  },
  {
   "cell_type": "code",
   "execution_count": 40,
   "id": "d46cfa07-19a5-40e1-a563-888b2ab2ec15",
   "metadata": {},
   "outputs": [
    {
     "name": "stdout",
     "output_type": "stream",
     "text": [
      "3\n",
      "[1 0 6]\n",
      "(5,)\n",
      "[0. 3. 0. 0. 0.]\n",
      "False\n",
      "7\n"
     ]
    }
   ],
   "source": [
    "a = np.asarray([1,2,3]).reshape(3,1).reshape(-1)\n",
    "b = np.asarray([1,0,2])\n",
    "print(a.shape[0])\n",
    "c = a * b\n",
    "print(c)\n",
    "d = np.zeros(5)\n",
    "print(d.shape)\n",
    "d[1] = 3\n",
    "print(d)\n",
    "print(2 in d)\n",
    "print(np.sum(c))"
   ]
  },
  {
   "cell_type": "code",
   "execution_count": null,
   "id": "39b2e68b-33de-472a-bf3d-f6962422d72b",
   "metadata": {},
   "outputs": [],
   "source": []
  },
  {
   "cell_type": "code",
   "execution_count": null,
   "id": "54479a43-a435-4d4c-a712-2cd22f89ebe5",
   "metadata": {},
   "outputs": [],
   "source": []
  },
  {
   "cell_type": "code",
   "execution_count": null,
   "id": "d8dc09fe-1e7f-4490-b5c7-48871adde9f9",
   "metadata": {},
   "outputs": [],
   "source": []
  }
 ],
 "metadata": {
  "kernelspec": {
   "display_name": "Python 3",
   "language": "python",
   "name": "python3"
  },
  "language_info": {
   "codemirror_mode": {
    "name": "ipython",
    "version": 3
   },
   "file_extension": ".py",
   "mimetype": "text/x-python",
   "name": "python",
   "nbconvert_exporter": "python",
   "pygments_lexer": "ipython3",
   "version": "3.9.5"
  }
 },
 "nbformat": 4,
 "nbformat_minor": 5
}
