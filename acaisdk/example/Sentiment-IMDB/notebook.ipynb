{
 "cells": [
  {
   "cell_type": "code",
   "execution_count": null,
   "id": "37ee5bf9",
   "metadata": {},
   "outputs": [],
   "source": [
    "import os\n",
    "import sys\n",
    "sys.path.append(os.path.dirname(os.path.realpath('__file__')) + '/../../../')\n",
    "from acaisdk.file import File\n",
    "from acaisdk.project import Project\n",
    "from acaisdk.fileset import FileSet\n",
    "from acaisdk.job import Job\n",
    "from acaisdk.meta import *\n",
    "from acaisdk.utils import utils\n",
    "from acaisdk import credentials\n",
    "# from acaisdk import automl\n",
    "\n",
    "utils.DEBUG = True  # print debug messages\n",
    "workspace = os.path.dirname(os.path.realpath('__file__'))  # get current directory"
   ]
  },
  {
   "cell_type": "code",
   "execution_count": null,
   "id": "3764342d",
   "metadata": {},
   "outputs": [],
   "source": [
    "# Setting up project\n",
    "# \n",
    "# Either:\n",
    "# 1) Provide your existing token for some project\n",
    "# 2) Fill in information for new project creation (project_name, project_admin, project_user, optional [csp, budget])\n",
    "# Do not change root_token!\n",
    "token = ''\n",
    "force_new_project = False\n",
    "    \n",
    "project_name = ''\n",
    "project_admin = ''\n",
    "project_user = ''\n",
    "csp = 'AZURE' # AWS/AZURE/GCP/PRIVATE\n",
    "budget = 10 # Default, I have no idea what other options there are\n",
    "\n",
    "try:\n",
    "    p\n",
    "except NameError:\n",
    "    pass\n",
    "else:\n",
    "    if not force_new_project:\n",
    "        if token == '':\n",
    "            print(\"User token {} already exists, saving to variable 'token'. If you want to enforce new project, set 'force_new_project=True'.\".format(p['user_token']))\n",
    "            token = p['user_token']\n",
    "    else:\n",
    "        print(\"User token {} already exists but forcing new project.\".format(p['user_token']))\n",
    "\n",
    "\n",
    "if token != '':\n",
    "    print(\"Logging in with existing credentials.\")\n",
    "    credentials.login(token)\n",
    "else:\n",
    "    print(\"Creating new project.\")\n",
    "    if project_name == '' or project_admin == '' or project_user == '':\n",
    "        raise ValueError(\"Some of the 'project_name', 'project_admin', 'project_user' not provided!\")\n",
    "    \n",
    "    root_token = 'EmDlCTBF1ppONSciYVd03M9xkmF6hFqW' \n",
    "    p = Project.create_project(project_name, root_token, project_admin, csp=csp, budget=budget)\n",
    "    p = Project.create_user(project_name, p['project_admin_token'], project_user)\n",
    "    token = p['user_token']\n",
    "    print(\"New user token {}, saved to variable 'token'\".format(token))"
   ]
  },
  {
   "cell_type": "code",
   "execution_count": null,
   "id": "eca4750c",
   "metadata": {},
   "outputs": [],
   "source": [
    "# Set env variable needed for Phoebe\n",
    "USE_PHOEBE = False\n",
    "if USE_PHOEBE:\n",
    "    os.environ[\"CLUSTER\"] = 'PHOEBE'"
   ]
  },
  {
   "cell_type": "code",
   "execution_count": null,
   "id": "686aed4a",
   "metadata": {},
   "outputs": [],
   "source": [
    "outputs = os.path.join(workspace, 'outputs/')\n",
    "if not os.path.isdir(outputs):\n",
    "    os.mkdir(outputs)\n",
    "inputs = os.path.join(workspace, 'inputs/')\n",
    "if not os.path.isdir(inputs):\n",
    "    os.mkdir(inputs)\n",
    "inf = [f for f in os.listdir(inputs) if os.path.isfile(os.path.join(inputs, f))]\n",
    "print(inf)"
   ]
  },
  {
   "cell_type": "code",
   "execution_count": null,
   "id": "d6c3598f",
   "metadata": {},
   "outputs": [],
   "source": [
    "# In case dataset is not downloaded = .csv not present in the inputs dir (shouldn't happen)\n",
    "# do the following:\n",
    "#\n",
    "# Install kaggle (pip3 or pip)\n",
    "# pip3 install kaggle\n",
    "#\n",
    "# Download dataset to the workdir of Sentiment-IMDB\n",
    "# kaggle datasets download lakshmi25npathi/imdb-dataset-of-50k-movie-reviews\n",
    "#\n",
    "# Untar downloaded dataset to inputs dir\n",
    "# tar -xvf imdb-dataset-of-50k-movie-reviews.zip -C inputs"
   ]
  },
  {
   "cell_type": "code",
   "execution_count": null,
   "id": "4267c6a4",
   "metadata": {},
   "outputs": [],
   "source": [
    "File.convert_to_file_mapping([inputs], '/sentiment-inputs/') \\\n",
    "    .files_to_upload \\\n",
    "    .upload() \\\n",
    "    .as_new_file_set('sentiment.inputs')"
   ]
  },
  {
   "cell_type": "code",
   "execution_count": null,
   "id": "4fee0e5d",
   "metadata": {},
   "outputs": [],
   "source": [
    "File.list_dir('/sentiment-inputs/')"
   ]
  },
  {
   "cell_type": "code",
   "execution_count": null,
   "id": "c4805c1d",
   "metadata": {},
   "outputs": [],
   "source": [
    "# Upload code\n",
    "code = os.path.join(workspace, 'sentiment-code.zip')\n",
    "File.upload({code: 'sentiment-code.zip'})"
   ]
  },
  {
   "cell_type": "code",
   "execution_count": null,
   "id": "b5dba87d",
   "metadata": {},
   "outputs": [],
   "source": [
    "File.list_dir('/')"
   ]
  },
  {
   "cell_type": "code",
   "execution_count": null,
   "id": "d16287b2",
   "metadata": {},
   "outputs": [],
   "source": [
    "# Job setting was OOM with 3Gi\n",
    "\n",
    "job_setting = {\n",
    "    \"v_cpu\": \"3\",\n",
    "    \"memory\": \"5Gi\",\n",
    "    \"gpu\": \"0\",\n",
    "    \"command\": \"mkdir -p ./sentiment-outputs/ && (pip install -r requirements.txt) && (python3 sentiment.py ./sentiment-inputs/ ./sentiment-outputs/)\",\n",
    "    \"container_image\": \"python:3.10.9\",\n",
    "    'input_file_set': 'sentiment.inputs',\n",
    "    'output_path': './sentiment-outputs/',\n",
    "    'code': 'sentiment-code.zip:9',\n",
    "    'description': 'Sentiment Analysis of IMDB Movie Reviews',\n",
    "    'name': 'sentiment1'\n",
    "}\n",
    "\n",
    "j = Job().with_attributes(job_setting).run()"
   ]
  },
  {
   "cell_type": "code",
   "execution_count": null,
   "id": "e08fe757",
   "metadata": {},
   "outputs": [],
   "source": [
    "j.check_job_status(3421)"
   ]
  },
  {
   "cell_type": "code",
   "execution_count": null,
   "id": "c72a4e9a",
   "metadata": {},
   "outputs": [],
   "source": [
    "from acaisdk.job import Job, JobStatus\n",
    "status = j.wait()\n",
    "if status == JobStatus.FINISHED:\n",
    "    output_file_set = j.output_file_set\n",
    "    print(\"Job done. output file set id:\", output_file_set)\n",
    "else:\n",
    "    print(\"Job went wrong:\", status)"
   ]
  },
  {
   "cell_type": "code",
   "execution_count": null,
   "id": "fba380ae",
   "metadata": {},
   "outputs": [],
   "source": [
    "File.download({'/sentiment-outputs/scores.txt': outputs})"
   ]
  },
  {
   "cell_type": "code",
   "execution_count": null,
   "id": "ac337af6",
   "metadata": {},
   "outputs": [],
   "source": []
  }
 ],
 "metadata": {
  "kernelspec": {
   "display_name": "Python 3 (ipykernel)",
   "language": "python",
   "name": "python3"
  },
  "language_info": {
   "codemirror_mode": {
    "name": "ipython",
    "version": 3
   },
   "file_extension": ".py",
   "mimetype": "text/x-python",
   "name": "python",
   "nbconvert_exporter": "python",
   "pygments_lexer": "ipython3",
   "version": "3.10.9"
  }
 },
 "nbformat": 4,
 "nbformat_minor": 5
}
