{
 "cells": [
  {
   "cell_type": "code",
   "execution_count": 6,
   "id": "4416d36e-7945-4fd6-a66a-c36f1f12c3e9",
   "metadata": {},
   "outputs": [
    {
     "name": "stdout",
     "output_type": "stream",
     "text": [
      "/Users/nishantravishankar/Documents/Thesis/acaisdk/acaisdk/example/AdaptDL-Workloads\n",
      "/Users/nishantravishankar/Documents/Thesis/acaisdk/acaisdk/example/AdaptDL-Workloads\n"
     ]
    }
   ],
   "source": [
    "import os\n",
    "import sys\n",
    "print(os.getcwd())\n",
    "print(os.path.dirname(os.path.realpath('__file__')))\n",
    "sys.path.append(os.path.dirname(os.path.realpath('__file__')) + '/../../../')\n",
    "from acaisdk.file import File\n",
    "from acaisdk.project import Project\n",
    "from acaisdk.fileset import FileSet\n",
    "from acaisdk.job import Job\n",
    "from acaisdk.meta import * \n",
    "\n",
    "from acaisdk.utils import utils\n",
    "from acaisdk import credentials\n",
    "# from acaisdk import automl\n",
    "os.environ[\"CLUSTER\"] = 'PHOEBE'\n",
    "utils.DEBUG = True  # print debug messages\n",
    "workspace = os.path.dirname(os.path.realpath('__file__'))  # get current directory"
   ]
  },
  {
   "cell_type": "code",
   "execution_count": 13,
   "id": "accd3249-b207-4ecf-a114-20a0a42cd15e",
   "metadata": {},
   "outputs": [],
   "source": [
    "def setup_workspace(project_id):\n",
    "    os.environ[\"CLUSTER\"] = 'PHOEBE'\n",
    "    utils.DEBUG = True  # print debug messages\n",
    "    credentials.login('sWEuAkD8NkLWXHRxhOWcbbesj6Ny1jBx')\n",
    "    # Make your changes here\n",
    "    root_token = 'EmDlCTBF1ppONSciYVd03M9xkmF6hFqW'\n",
    "    project_admin = 'nravish2'\n",
    "    user = 'nravish2'\n",
    "    r = Project.create_project(project_id, root_token, project_admin, csp='AZURE')\n",
    "    print(r)\n",
    "    print(credentials.login(r['project_admin_token']))"
   ]
  },
  {
   "cell_type": "code",
   "execution_count": 9,
   "id": "a1a074d7-b782-4d53-bada-f35dac20dcd8",
   "metadata": {},
   "outputs": [],
   "source": [
    "def submit_adaptdl_job(workspace, name, description, input_file_set, application, target_num_replicas, target_batch_size):\n",
    "    print(f\"workspace = {workspace}, name = {name}, description = {description}, \\\n",
    "        input_file_set = {input_file_set}, application = {application}, \\\n",
    "        target_num_replicas = {target_num_replicas}, target_batch_size = {target_batch_size}\")\n",
    "    \n",
    "    code = os.path.join(workspace, f'{application}.zip')\n",
    "    \n",
    "    File.upload({code: f'/{application}.zip'})\n",
    "    print(f\"Done uploading {application}.zip\");\n",
    "    print(File.list_dir('/'))\n",
    "    download_dir = workspace + '/temp'\n",
    "    File.download({f'/{application}.zip' : download_dir})\n",
    "    print(f\"Done verifying download\")\n",
    "    # Upload input files and create file set\n",
    "    input_dir = os.path.join(workspace, 'data')\n",
    "    \n",
    "    File.convert_to_file_mapping([input_dir], 'data/') \\\n",
    "    .files_to_upload \\\n",
    "    .upload() \\\n",
    "    .as_new_file_set(input_file_set)\n",
    "\n",
    "    print(f\"Done uploading input_file_set. Now attempting to execute job\")\n",
    "    \n",
    "    # Run a job\n",
    "    job_setting = {\n",
    "        \"v_cpu\": \"\",\n",
    "        \"memory\": \"\",\n",
    "        \"gpu\": \"\",\n",
    "        \"command\": \"\",\n",
    "        \"container_image\": \"\",\n",
    "        'input_file_set': f'{input_file_set}:1',\n",
    "        'output_path': '',\n",
    "        'code': f'/{application}.zip',\n",
    "        'description': description,\n",
    "        'name': name,\n",
    "        'adaptdl_status': 'Enabled',\n",
    "        'application': application,\n",
    "        'target_num_replicas': target_num_replicas,\n",
    "        'target_batch_size': target_batch_size\n",
    "    }\n",
    "    print(f\"job_setting = {job_setting}\")\n",
    "    j = Job().with_attributes(job_setting).run()\n",
    "    print(j)\n"
   ]
  },
  {
   "cell_type": "code",
   "execution_count": 14,
   "id": "a94fcbc9-43c9-40c2-a511-36ac204fa084",
   "metadata": {},
   "outputs": [
    {
     "name": "stdout",
     "output_type": "stream",
     "text": [
      "Setting up workspace\n",
      "Set the budget of Project {nravish2_adaptdl_10} to default value: $10.00\n",
      "Update the budget using: set_budget(amount)\n",
      "Cloud service provider:  AZURE\n",
      "phoebe-mgmt.pdl.local.cmu.edu cred_endpoint\n",
      "30379 cred_port\n",
      "Running request: phoebe-mgmt.pdl.local.cmu.edu 30379 credential create_project\n",
      "POST data {\"project_id\": \"nravish2_adaptdl_10\", \"budget\": 10, \"admin_token\": \"EmDlCTBF1ppONSciYVd03M9xkmF6hFqW\", \"csp\": \"AZURE\", \"project_admin_name\": \"nravish2\"}\n",
      "----------- printing post data -------------\n",
      "phoebe-mgmt.pdl.local.cmu.edu\n",
      "30379\n",
      "{'project_admin_id': 146095, 'project_admin_token': 'kscGQOjkYG0WBKAkq1EuHP1YCycR0Mk4', 'bucket_name': ''}\n",
      "None\n"
     ]
    }
   ],
   "source": [
    "print(\"Setting up workspace\")\n",
    "project_id = \"nravish2_adaptdl_10\"\n",
    "setup_workspace(project_id)"
   ]
  },
  {
   "cell_type": "code",
   "execution_count": null,
   "id": "cb68cb36-e4e2-4c82-91b7-ab09da10eea0",
   "metadata": {},
   "outputs": [],
   "source": [
    "workload = pandas.read_csv(\"phoebe_sample_workload.csv\")\n",
    "start = time.time()\n",
    "workspace = os.path.dirname(os.path.realpath('__file__'))  # get current directory\n",
    "for row in workload.sort_values(by=\"time\").itertuples():\n",
    "    # while time.time() - start < row.time:\n",
    "    #     time.sleep(1)\n",
    "    description = \"random\"\n",
    "    input_file_set = \"data\"\n",
    "    print(row)\n",
    "    #workspace, name, description, input_file_set, application, target_num_replicas, target_batch_size\n",
    "    submit_adaptdl_job(workspace, row.application, description, \n",
    "                       \"data\", row.application,\n",
    "                       row.num_replicas, row.batch_size)"
   ]
  }
 ],
 "metadata": {
  "kernelspec": {
   "display_name": "Python 3 (ipykernel)",
   "language": "python",
   "name": "python3"
  },
  "language_info": {
   "codemirror_mode": {
    "name": "ipython",
    "version": 3
   },
   "file_extension": ".py",
   "mimetype": "text/x-python",
   "name": "python",
   "nbconvert_exporter": "python",
   "pygments_lexer": "ipython3",
   "version": "3.9.12"
  }
 },
 "nbformat": 4,
 "nbformat_minor": 5
}
