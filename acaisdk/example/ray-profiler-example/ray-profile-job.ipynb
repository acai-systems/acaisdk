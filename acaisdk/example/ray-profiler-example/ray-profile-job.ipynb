{
 "cells": [
  {
   "cell_type": "code",
   "execution_count": 1,
   "metadata": {},
   "outputs": [],
   "source": [
    "import os\n",
    "import sys\n",
    "sys.path.append(os.path.dirname(os.path.realpath('__file__')) + '/../../../')\n",
    "from acaisdk.file import File\n",
    "from acaisdk.project import Project\n",
    "from acaisdk.fileset import FileSet\n",
    "from acaisdk.job import *\n",
    "from acaisdk.meta import *\n",
    "from acaisdk.utils import utils\n",
    "from acaisdk import credentials\n",
    "\n",
    "workspace = os.path.dirname(os.path.realpath('__file__'))\n",
    "utils.DEBUG = True  # print debug messages. Calls are successful as long as no exception is thrown."
   ]
  },
  {
   "cell_type": "code",
   "execution_count": 4,
   "metadata": {},
   "outputs": [],
   "source": [
    "credentials.login('bWEPDTmZIFiSJbYw15FXevi0FZ3bp2Tk')"
   ]
  },
  {
   "cell_type": "code",
   "execution_count": 5,
   "metadata": {
    "tags": []
   },
   "outputs": [
    {
     "name": "stdout",
     "output_type": "stream",
     "text": [
      "Running request from dev: 35.237.138.197 80 storage start_file_upload_session\n",
      "POST data {\"paths\": [\"ray_profiler_train_scripts.zip\"], \"hashes\": [\"62be01b2d0fbe91ca152cdda0aa8d0a0\"], \"token\": \"bWEPDTmZIFiSJbYw15FXevi0FZ3bp2Tk\"}\n",
      "[('/Users/baljitsingh/Desktop/Capstone-F20-latest/acaisdk/acaisdk/example/ray-profiler-example/example.zip', 'ray_profiler_train_scripts.zip')]\n",
      "r =  <Response [200]>\n",
      "Uploaded /Users/baljitsingh/Desktop/Capstone-F20-latest/acaisdk/acaisdk/example/ray-profiler-example/example.zip to ray_profiler_train_scripts.zip\n",
      "Running request from dev: 35.237.138.197 80 storage poll_file_upload_session\n",
      "GET query {\"session_id\": 8730, \"token\": \"bWEPDTmZIFiSJbYw15FXevi0FZ3bp2Tk\"}\n",
      "Running request from dev: 35.237.138.197 80 storage poll_file_upload_session\n",
      "GET query {\"session_id\": 8730, \"token\": \"bWEPDTmZIFiSJbYw15FXevi0FZ3bp2Tk\"}\n",
      "Running request from dev: 35.237.138.197 80 storage poll_file_upload_session\n",
      "GET query {\"session_id\": 8730, \"token\": \"bWEPDTmZIFiSJbYw15FXevi0FZ3bp2Tk\"}\n",
      "Running request from dev: 35.237.138.197 80 storage finish_file_upload_session\n",
      "POST data {\"session_id\": 8730, \"token\": \"bWEPDTmZIFiSJbYw15FXevi0FZ3bp2Tk\"}\n"
     ]
    },
    {
     "data": {
      "text/plain": [
       "[('/Users/baljitsingh/Desktop/Capstone-F20-latest/acaisdk/acaisdk/example/ray-profiler-example/example.zip',\n",
       "  'ray_profiler_train_scripts.zip:1')]"
      ]
     },
     "execution_count": 5,
     "metadata": {},
     "output_type": "execute_result"
    }
   ],
   "source": [
    "# Upload code\n",
    "train_code = os.path.join(workspace, 'example.zip')\n",
    "# eval_code = os.path.join(workspace, 'demo/eval_script.zip')\n",
    "File.upload({train_code: 'ray_profiler_train_scripts.zip'})"
   ]
  },
  {
   "cell_type": "code",
   "execution_count": 6,
   "metadata": {},
   "outputs": [],
   "source": [
    "# Run a profiling job\n",
    "job_setting = {\n",
    "    \"command_template\": \"ray start --node-ip-address=$MY_POD_IP --num-cpus=0 --address=$RAY_HEAD_SERVICE_HOST:$RAY_HEAD_SERVICE_PORT_REDIS_PRIMARY --object-manager-port=12345 --node-manager-port=12346 && mkdir ray_output && python example.py | tee ./ray_output/output.txt\",\n",
    "    \"container_image\": \"rayproject/autoscaler\",\n",
    "    'input_file_set': 'ray_test_fs', # not used since this example does not need an input dataset\n",
    "    'code': 'ray_profiler_train_scripts.zip',\n",
    "    'name': 'ray_profiling_test',\n",
    "    'framework': 'ray',\n",
    "    'nnode_space': [1],\n",
    "    'memory_space': [512]\n",
    "}\n",
    "\n",
    "result = {}\n",
    "j = ProfilingJob().with_attributes(job_setting)"
   ]
  },
  {
   "cell_type": "code",
   "execution_count": 7,
   "metadata": {
    "tags": []
   },
   "outputs": [
    {
     "name": "stdout",
     "output_type": "stream",
     "text": [
      "Running request from dev: 35.237.138.197 80 profiler register_template\n",
      "POST data {\"name\": \"ray_profiling_test\", \"input_file_set\": \"ray_test_fs\", \"code\": \"ray_profiler_train_scripts.zip\", \"command_template\": \"ray start --node-ip-address=$MY_POD_IP --num-cpus=0 --address=$RAY_HEAD_SERVICE_HOST:$RAY_HEAD_SERVICE_PORT_REDIS_PRIMARY --object-manager-port=12345 --node-manager-port=12346 && mkdir ray_output && python example.py | tee ./ray_output/output.txt\", \"container_image\": \"rayproject/autoscaler\", \"memory_space\": [512], \"nnode_space\": [1], \"framework\": \"ray\", \"token\": \"bWEPDTmZIFiSJbYw15FXevi0FZ3bp2Tk\"}\n",
      "{'id': 43, 'name': 'ray_profiling_test', 'code': 'ray_profiler_train_scripts.zip', 'allOptionsSer': '[]', 'state': 'submitted', 'input_file_set': 'ray_test_fs', 'command_template': 'ray start --node-ip-address=$MY_POD_IP --num-cpus=0 --address=$RAY_HEAD_SERVICE_HOST:$RAY_HEAD_SERVICE_PORT_REDIS_PRIMARY --object-manager-port=12345 --node-manager-port=12346 && mkdir ray_output && python example.py | tee ./ray_output/output.txt', 'memory_space': [512], 'cpu_space': [0.5, 1.0], 'nnode_space': [1], 'user_id': 3446, 'project_id': 'integration_test_dev', 'container_image': 'rayproject/autoscaler', 'model_name': None, 'framework': 'ray', 'model_id': None, 'spawned_jobs': 0}\n"
     ]
    },
    {
     "data": {
      "text/plain": [
       "{'id': 43,\n",
       " 'name': 'ray_profiling_test',\n",
       " 'code': 'ray_profiler_train_scripts.zip',\n",
       " 'allOptionsSer': '[]',\n",
       " 'state': 'submitted',\n",
       " 'input_file_set': 'ray_test_fs',\n",
       " 'command_template': 'ray start --node-ip-address=$MY_POD_IP --num-cpus=0 --address=$RAY_HEAD_SERVICE_HOST:$RAY_HEAD_SERVICE_PORT_REDIS_PRIMARY --object-manager-port=12345 --node-manager-port=12346 && mkdir ray_output && python example.py | tee ./ray_output/output.txt',\n",
       " 'memory_space': [512],\n",
       " 'cpu_space': [0.5, 1.0],\n",
       " 'nnode_space': [1],\n",
       " 'user_id': 3446,\n",
       " 'project_id': 'integration_test_dev',\n",
       " 'container_image': 'rayproject/autoscaler',\n",
       " 'model_name': None,\n",
       " 'framework': 'ray',\n",
       " 'model_id': None,\n",
       " 'spawned_jobs': 0}"
      ]
     },
     "execution_count": 7,
     "metadata": {},
     "output_type": "execute_result"
    }
   ],
   "source": [
    "# this will populate the result dict with the response, you can also get the response by assigning the return value to a variable\n",
    "j.profile(result)"
   ]
  },
  {
   "cell_type": "code",
   "execution_count": null,
   "metadata": {},
   "outputs": [],
   "source": []
  }
 ],
 "metadata": {
  "kernelspec": {
   "display_name": "Python 3",
   "language": "python",
   "name": "python3"
  },
  "language_info": {
   "codemirror_mode": {
    "name": "ipython",
    "version": 3
   },
   "file_extension": ".py",
   "mimetype": "text/x-python",
   "name": "python",
   "nbconvert_exporter": "python",
   "pygments_lexer": "ipython3",
   "version": "3.7.3"
  }
 },
 "nbformat": 4,
 "nbformat_minor": 2
}
